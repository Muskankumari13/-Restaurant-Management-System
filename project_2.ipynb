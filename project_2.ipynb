{
  "nbformat": 4,
  "nbformat_minor": 0,
  "metadata": {
    "colab": {
      "provenance": [],
      "authorship_tag": "ABX9TyOrU7fVAnP+ayLHD+g+cVX6",
      "include_colab_link": true
    },
    "kernelspec": {
      "name": "python3",
      "display_name": "Python 3"
    },
    "language_info": {
      "name": "python"
    }
  },
  "cells": [
    {
      "cell_type": "markdown",
      "metadata": {
        "id": "view-in-github",
        "colab_type": "text"
      },
      "source": [
        "<a href=\"https://colab.research.google.com/github/Muskankumari13/-Restaurant-Management-System/blob/main/project_2.ipynb\" target=\"_parent\"><img src=\"https://colab.research.google.com/assets/colab-badge.svg\" alt=\"Open In Colab\"/></a>"
      ]
    },
    {
      "cell_type": "markdown",
      "source": [
        "# **1. Device Management (Lists & Tuples)**"
      ],
      "metadata": {
        "id": "CxZYXPw68bQr"
      }
    },
    {
      "cell_type": "markdown",
      "source": [
        "Task 1.1: Create and Manage a List of Smart Devices\n",
        "\n",
        "● Create a list of at least 5 smart home devices (e.g., \"Lights\", \"Fan\", \"AC\", \"DoorLock\", \"Thermostat\").\n",
        "\n",
        "● Allow the user to:\n",
        "\n",
        "○ Add a new device.\n",
        "\n",
        "○ Remove a device.\n",
        "\n",
        "○ Sort devices alphabetically.\n",
        "\n",
        "✍️ Example Output:\n",
        "\n",
        "Devices: ['Lights', 'Fan', 'AC', 'Door Lock', 'Thermostat'] Updated\n",
        "\n",
        "Devices: ['Lights', 'Fan', 'AC', 'Door Lock', 'Thermostat',\n",
        "'Security Camera']\n",
        "\n",
        "Sorted Devices: ['AC', 'Door Lock', 'Fan', 'Lights', 'Security\n",
        "Camera', 'Thermostat']"
      ],
      "metadata": {
        "id": "26DGy7_w8ktL"
      }
    },
    {
      "cell_type": "code",
      "execution_count": null,
      "metadata": {
        "id": "NYdOSpjDmZSK"
      },
      "outputs": [],
      "source": [
        "listOfDevice=[\"Lights\", \"Fan\", \"AC\", \"DoorLock\", \"Thermostat\"]"
      ]
    },
    {
      "cell_type": "markdown",
      "source": [
        "Make a function for adding new device"
      ],
      "metadata": {
        "id": "89h7jkZ7m1ZA"
      }
    },
    {
      "cell_type": "code",
      "source": [
        "def Add_device(listOfDevice):\n",
        "  listOfDevice.append(input(\"enter the device name for adding in a sytem :\"))\n"
      ],
      "metadata": {
        "id": "0KrP8pltmltp"
      },
      "execution_count": null,
      "outputs": []
    },
    {
      "cell_type": "markdown",
      "source": [
        "make a function for remove a device"
      ],
      "metadata": {
        "id": "hlhWMLO281VF"
      }
    },
    {
      "cell_type": "code",
      "source": [
        "def Remove_A_Device(listOfDevice):\n",
        "  device=input(\"enter the device name for removing in a sytem :\")\n",
        "  if device in listOfDevice:\n",
        "    listOfDevice.remove(device)\n",
        "  else:\n",
        "    print(\"device not found\")\n"
      ],
      "metadata": {
        "id": "OtFsfq3HnGsq"
      },
      "execution_count": null,
      "outputs": []
    },
    {
      "cell_type": "markdown",
      "source": [
        "make a function for the sorting a list of device"
      ],
      "metadata": {
        "id": "65dDd3Zq8_45"
      }
    },
    {
      "cell_type": "code",
      "source": [
        "def Sort_all_devices(listOfDevice):\n",
        "  listOfDevice.sort()"
      ],
      "metadata": {
        "id": "pwDhDGo6nr3S"
      },
      "execution_count": null,
      "outputs": []
    },
    {
      "cell_type": "markdown",
      "source": [
        "here we take user input for what operation perform on list of device"
      ],
      "metadata": {
        "id": "lBliHYbf9KuF"
      }
    },
    {
      "cell_type": "code",
      "source": [
        "userInput=input(\"1. adding a device: \\n 2. removing a device: \\n 3. sorting all devices:\")\n",
        "if userInput==\"1\":\n",
        "  Add_device(listOfDevice)\n",
        "elif userInput==\"2\":\n",
        "  Remove_A_Device(listOfDevice)\n",
        "elif userInput==\"3\":\n",
        "  Sort_all_devices(listOfDevice)\n",
        "else:\n",
        "  print(\"wrong input\")"
      ],
      "metadata": {
        "colab": {
          "base_uri": "https://localhost:8080/"
        },
        "id": "gviXKQTUnwr7",
        "outputId": "2336432d-1ef9-40aa-e236-724c77e88bb0"
      },
      "execution_count": null,
      "outputs": [
        {
          "name": "stdout",
          "output_type": "stream",
          "text": [
            "1. adding a device: \n",
            " 2. removing a device: \n",
            " 3. sorting all devices:3\n"
          ]
        }
      ]
    },
    {
      "cell_type": "code",
      "source": [
        "listOfDevice"
      ],
      "metadata": {
        "colab": {
          "base_uri": "https://localhost:8080/"
        },
        "id": "Fzmbtg0wMh31",
        "outputId": "49c0afe1-38cb-48d8-a6e4-21d8b44de8ce"
      },
      "execution_count": null,
      "outputs": [
        {
          "output_type": "execute_result",
          "data": {
            "text/plain": [
              "['AC', 'DoorLock', 'Fan', 'Lights', 'Thermostat']"
            ]
          },
          "metadata": {},
          "execution_count": 10
        }
      ]
    },
    {
      "cell_type": "markdown",
      "source": [
        "# **Task 1.2: Store Device Settings Using Tuples**\n",
        "\n",
        "● Define a tuple for each device, containing:\n",
        "\n",
        "○ Device name\n",
        "\n",
        "○ Device status (ON/OFF)\n",
        "\n",
        "○ Device power consumption (in Watts)\n",
        "\n",
        "● Allow users to view all devices with their status and power consumption.\n",
        "\n",
        "✍️ Example Output:\n",
        "\n",
        "Lights: ('Lights', 'ON', 60)\n",
        "\n",
        "Fan: ('Fan', 'OFF', 40)\n",
        "\n",
        "AC: ('AC', 'ON', 1500)"
      ],
      "metadata": {
        "id": "BNIiVMfVIcCk"
      }
    },
    {
      "cell_type": "code",
      "source": [
        "devices = [\n",
        "    (\"Lights\", \"ON\", 60),\n",
        "    (\"Fan\", \"OFF\", 40),\n",
        "    (\"AC\", \"ON\", 1500),\n",
        "    (\"DoorLock\", \"OFF\", 0),\n",
        "    (\"Thermostat\", \"ON\", 100)\n",
        "]\n",
        "\n",
        "for device in devices:\n",
        "    print(f\"{device[0]}: {device}\")"
      ],
      "metadata": {
        "id": "qXD9RTXjoGXU",
        "colab": {
          "base_uri": "https://localhost:8080/"
        },
        "outputId": "0c0d9dfa-c1cd-4922-d429-4bbdc1fde545"
      },
      "execution_count": null,
      "outputs": [
        {
          "output_type": "stream",
          "name": "stdout",
          "text": [
            "Lights: ('Lights', 'ON', 60)\n",
            "Fan: ('Fan', 'OFF', 40)\n",
            "AC: ('AC', 'ON', 1500)\n",
            "DoorLock: ('DoorLock', 'OFF', 0)\n",
            "Thermostat: ('Thermostat', 'ON', 100)\n"
          ]
        }
      ]
    },
    {
      "cell_type": "markdown",
      "source": [
        "# **2. Energy Consumption Tracker (Dictionaries & Sets)**\n",
        "\n",
        "Task 2.1: Store Device Energy Usage in a Dictionary\n",
        "\n",
        "● Create a dictionary where:\n",
        "\n",
        "○ Keys: Smart home devices (e.g., \"Lights\", \"AC\", \"Fan\").\n",
        "\n",
        "○ Values: Energy usage (in kWh).\n",
        "\n",
        "● Allow users to:\n",
        "\n",
        "○ Add new energy usage data.\n",
        "\n",
        "○ Update existing usage.\n",
        "\n",
        "○ Remove a device's energy usage.\n",
        "\n",
        "○ Display total energy consumption.\n",
        "\n",
        "✍️ Example Output:\n",
        "\n",
        "Initial Energy Usage: {'Lights': 5, 'AC': 120, 'Fan': 30}\n",
        "\n",
        "Updated Energy Usage: {'Lights': 5, 'AC': 110, 'Fan': 30,\n",
        "'Thermostat': 20}\n",
        "\n",
        "Total Energy Consumption: 165 kWh"
      ],
      "metadata": {
        "id": "w6cQX6AMNC_n"
      }
    },
    {
      "cell_type": "code",
      "source": [
        "Device_Energy_Usage={\n",
        "    \"Lights\":5,\n",
        "    \"AC\":120,\n",
        "    \"Fan\":30,\n",
        "\n",
        "}"
      ],
      "metadata": {
        "id": "XWeNpLmQI8Vz"
      },
      "execution_count": null,
      "outputs": []
    },
    {
      "cell_type": "markdown",
      "source": [
        "here we copy the initial values in the dictionary"
      ],
      "metadata": {
        "id": "V1AP4XWq-Cku"
      }
    },
    {
      "cell_type": "code",
      "source": [
        "InitialEnergyUsage=Device_Energy_Usage.copy()"
      ],
      "metadata": {
        "id": "Wdtl_ZBone30"
      },
      "execution_count": null,
      "outputs": []
    },
    {
      "cell_type": "markdown",
      "source": [
        "Add_new_energy_usage() use for adding a new device in the dictionary"
      ],
      "metadata": {
        "id": "OHUlL1UI-NrE"
      }
    },
    {
      "cell_type": "code",
      "source": [
        "def Add_new_energy_usage(Device_Energy_Usage):\n",
        "  KeyDevice=input(\"enter a name of device which you add for energy usage : \")\n",
        "  valueDevice=int(input(\"enter a energy usage of device : \"))\n",
        "  Device_Energy_Usage[KeyDevice]=valueDevice"
      ],
      "metadata": {
        "id": "kJ6soyymlMXl"
      },
      "execution_count": null,
      "outputs": []
    },
    {
      "cell_type": "markdown",
      "source": [
        "Update_existing_usage(Device_Energy_Usage)  is used for update the value of devices in watts"
      ],
      "metadata": {
        "id": "g51meuJP-aiS"
      }
    },
    {
      "cell_type": "code",
      "source": [
        "def Update_existing_usage(Device_Energy_Usage):\n",
        "  update_KeyDevice=input(\"enter a name of device which you update for energy usage : \")\n",
        "  updatd_valueDevice=int(input(\"enter a energy usage of device : \"))\n",
        "  Device_Energy_Usage[update_KeyDevice]=updatd_valueDevice"
      ],
      "metadata": {
        "id": "k4TkkURZk_U0"
      },
      "execution_count": null,
      "outputs": []
    },
    {
      "cell_type": "markdown",
      "source": [
        "Remove_A_Device(Device_Energy_Usage): this function is use for remove any device which is not use in the home"
      ],
      "metadata": {
        "id": "QJ1U3nx3-jvn"
      }
    },
    {
      "cell_type": "code",
      "source": [
        "def Remove_A_Device(Device_Energy_Usage):\n",
        "  device=input(\"enter the device name for removing in a sytem :\")\n",
        "  if device in Device_Energy_Usage:\n",
        "    del Device_Energy_Usage[device]\n",
        "  else:\n",
        "    print(\"device not found\")"
      ],
      "metadata": {
        "id": "Q-qvxTpPlhGs"
      },
      "execution_count": null,
      "outputs": []
    },
    {
      "cell_type": "markdown",
      "source": [
        "display_total_energy_consumption(Device_Energy_Usage):  here this function give total enery consumption which was used by all devices"
      ],
      "metadata": {
        "id": "QKpoCEKh-uCe"
      }
    },
    {
      "cell_type": "code",
      "source": [
        "def display_total_energy_consumption(Device_Energy_Usage):\n",
        "  total_energy_consumption=sum(Device_Energy_Usage.values())\n",
        "  print(f\"Total Energy Consumption: {total_energy_consumption} kWh\")"
      ],
      "metadata": {
        "id": "ZKRXE81Dlv4T"
      },
      "execution_count": null,
      "outputs": []
    },
    {
      "cell_type": "code",
      "source": [
        "userInput=input(\"1. Add new energy usage data \\n 2. Update existing usage \\n 3. Remove a device's energy usage\")\n",
        "if userInput==\"1\":\n",
        "  Add_new_energy_usage(Device_Energy_Usage)\n",
        "elif userInput==\"2\":\n",
        "  Update_existing_usage(Device_Energy_Usage)\n",
        "elif userInput==\"3\":\n",
        "  Remove_A_Device(Device_Energy_Usage)\n",
        "else:\n",
        "  print(\"wrong input\")"
      ],
      "metadata": {
        "colab": {
          "base_uri": "https://localhost:8080/"
        },
        "id": "8gTQQt0Xl7e-",
        "outputId": "cde131d5-ac9f-4b11-aa45-46bd582a0ec8"
      },
      "execution_count": null,
      "outputs": [
        {
          "name": "stdout",
          "output_type": "stream",
          "text": [
            "1. Add new energy usage data \n",
            " 2. Update existing usage \n",
            " 3. Remove a device's energy usage2\n",
            "enter a name of device which you update for energy usage : AC\n",
            "enter a energy usage of device : 23\n"
          ]
        }
      ]
    },
    {
      "cell_type": "code",
      "source": [
        "Updated_Energy_Usage=Device_Energy_Usage"
      ],
      "metadata": {
        "id": "KhsQTZfvmLmW"
      },
      "execution_count": null,
      "outputs": []
    },
    {
      "cell_type": "code",
      "source": [
        "print(f\"Initial Energy Usage: {InitialEnergyUsage}\")\n",
        "print(f\"Updated Energy Usage: {Updated_Energy_Usage}\")\n",
        "display_total_energy_consumption(Device_Energy_Usage)"
      ],
      "metadata": {
        "colab": {
          "base_uri": "https://localhost:8080/"
        },
        "id": "gNwEzeWrnqi3",
        "outputId": "6dafbd10-ad0c-47dd-f6d9-8a03da4df4dd"
      },
      "execution_count": null,
      "outputs": [
        {
          "output_type": "stream",
          "name": "stdout",
          "text": [
            "Initial Energy Usage: {'Lights': 5, 'AC': 120, 'Fan': 30}\n",
            "Updated Energy Usage: {'Lights': 5, 'AC': 23, 'Fan': 30}\n",
            "Total Energy Consumption: 58 kWh\n"
          ]
        }
      ]
    },
    {
      "cell_type": "markdown",
      "source": [
        "# **Task 2.2: Identify Unique Power-Saving Modes Using Sets**\n",
        "\n",
        "● Create a set to store unique power-saving modes (e.g., \"Eco Mode\", \"Night\n",
        "Mode\", \"Away Mode\").\n",
        "\n",
        "● Allow users to:\n",
        "\n",
        "○ Add a new mode.\n",
        "\n",
        "○ Check if a mode is available.\n",
        "\n",
        "○ View all power-saving modes.\n",
        "\n",
        "✍️ Example Output:\n",
        "\n",
        "Power-Saving Modes: {'Eco Mode', 'Night Mode'}\n",
        "\n",
        "New Mode Added: 'Away Mode'\n",
        "\n",
        "Updated Modes: {'Eco Mode', 'Night Mode', 'Away Mode'}"
      ],
      "metadata": {
        "id": "zbXpkyW_o4nu"
      }
    },
    {
      "cell_type": "code",
      "source": [
        "Power_Saving_Modes={\"Eco Mode\", \"Night Mode\"}"
      ],
      "metadata": {
        "id": "EP296Az6n_h5"
      },
      "execution_count": null,
      "outputs": []
    },
    {
      "cell_type": "markdown",
      "source": [
        "this function use for adding a new mode"
      ],
      "metadata": {
        "id": "JFRT6Q5t_NhX"
      }
    },
    {
      "cell_type": "code",
      "source": [
        "def Add_new_mode(Power_Saving_Modes):\n",
        "  new_mode=input(\"enter a new mode : \")\n",
        "  Power_Saving_Modes.add(new_mode)"
      ],
      "metadata": {
        "id": "0GhIQ5UAp_Uz"
      },
      "execution_count": null,
      "outputs": []
    },
    {
      "cell_type": "markdown",
      "source": [
        "this function use for if user checks that if this mode is present give true otherwise false"
      ],
      "metadata": {
        "id": "AOqoQR-F_Rbr"
      }
    },
    {
      "cell_type": "code",
      "source": [
        "def CheckModes(Power_Saving_Modes):\n",
        "  mode=input(\"enter a mode for checking:\")\n",
        "  if mode in Power_Saving_Modes:\n",
        "    print(f\"{mode} is available\")\n",
        "  else:\n",
        "    print(f\"{mode} is not available\")"
      ],
      "metadata": {
        "id": "Ay_KRnxuqwyP"
      },
      "execution_count": null,
      "outputs": []
    },
    {
      "cell_type": "code",
      "source": [
        "print(\"Updated Modes:\", Power_Saving_Modes)"
      ],
      "metadata": {
        "colab": {
          "base_uri": "https://localhost:8080/"
        },
        "id": "4I31ZFdjrJHl",
        "outputId": "c3e85c70-e0ed-4d12-ea0d-fe0b72448a43"
      },
      "execution_count": null,
      "outputs": [
        {
          "output_type": "stream",
          "name": "stdout",
          "text": [
            "Updated Modes: {'Night Mode', 'Eco Mode'}\n"
          ]
        }
      ]
    },
    {
      "cell_type": "markdown",
      "source": [
        "# **3. Functions for Smart Home Automation Task**\n",
        "\n",
        "3.1: Create a Function to Calculate Monthly Energy Cost\n",
        "\n",
        "● Write a function calculate_energy_cost(energy_usage, rate_per_kwh)\n",
        "\n",
        "that:\n",
        "\n",
        "○ Takes total energy usage (kWh) and electricity rate per kWh as input.\n",
        "\n",
        "○ Calculates total monthly cost.\n",
        "\n",
        "✍️ Example Input & Output:\n",
        "\n",
        "calculate_energy_cost(165, 0.12)\n",
        "\n",
        "# Output: \"Total Monthly Energy Cost: $19.80\"\n"
      ],
      "metadata": {
        "id": "lW4L9FRvsQ5y"
      }
    },
    {
      "cell_type": "code",
      "source": [
        "def  calculate_energy_cost(energy_usage, rate_per_kwh):\n",
        "  total_monthly_cost=energy_usage*rate_per_kwh\n",
        "  return total_monthly_cost"
      ],
      "metadata": {
        "id": "_SmwmqMlraPb"
      },
      "execution_count": null,
      "outputs": []
    },
    {
      "cell_type": "code",
      "source": [
        "print(\"Total Monthly Energy Cost: $\"+ str(calculate_energy_cost(165, 0.12)))"
      ],
      "metadata": {
        "colab": {
          "base_uri": "https://localhost:8080/"
        },
        "id": "oKogF2kZs6GV",
        "outputId": "96677db3-8849-4a2b-98a0-cc53d1d59b34"
      },
      "execution_count": null,
      "outputs": [
        {
          "output_type": "stream",
          "name": "stdout",
          "text": [
            "Total Monthly Energy Cost: $19.8\n"
          ]
        }
      ]
    },
    {
      "cell_type": "markdown",
      "source": [
        "# **Task 3.2: Create a Function to Find Common Devices in Two Homes**\n",
        "\n",
        "● Write a function that:\n",
        "\n",
        "○ Takes two lists of smart devices from two different homes.\n",
        "\n",
        "○ Returns a set of common devices.\n",
        "\n",
        "✍️ Example Input & Output:\n",
        "\n",
        "home1_devices = ['Lights', 'AC', 'Fan']\n",
        "\n",
        "home2_devices = ['Fan', 'Door Lock', 'Lights']\n",
        "\n",
        "find_common_devices(home1_devices, home2_devices)\n",
        "\n",
        "# Output: {'Lights', 'Fan'}"
      ],
      "metadata": {
        "id": "5hWrLDNUs-x-"
      }
    },
    {
      "cell_type": "code",
      "source": [
        "home1_devices = ['Lights', 'AC', 'Fan']\n",
        "\n",
        "home2_devices = ['Fan', 'Door Lock', 'Lights']"
      ],
      "metadata": {
        "id": "fzRYyeXps8GP"
      },
      "execution_count": null,
      "outputs": []
    },
    {
      "cell_type": "code",
      "source": [
        "def find_common_devices(home1_devices, home2_devices):\n",
        "    common=set(home1_devices).intersection(home2_devices)\n",
        "    print(\"common devices:\",common)\n"
      ],
      "metadata": {
        "id": "5naI7Zb_tNE4"
      },
      "execution_count": null,
      "outputs": []
    },
    {
      "cell_type": "code",
      "source": [
        "find_common_devices(home1_devices, home2_devices)"
      ],
      "metadata": {
        "colab": {
          "base_uri": "https://localhost:8080/"
        },
        "id": "mRQzJGg7tdPw",
        "outputId": "d151fbd4-8cb0-4751-de1e-c71fb16e4a0f"
      },
      "execution_count": null,
      "outputs": [
        {
          "output_type": "stream",
          "name": "stdout",
          "text": [
            "common devices: {'Fan', 'Lights'}\n"
          ]
        }
      ]
    },
    {
      "cell_type": "markdown",
      "source": [
        "# **4. Automation Features (Advanced Functions)**"
      ],
      "metadata": {
        "id": "XvME3PJ8uVXE"
      }
    },
    {
      "cell_type": "markdown",
      "source": [
        "Task 4.1: Create an Automation Rule Using Functions\n",
        "\n",
        "● Write a function set_automation_rule(device, time, action) that:\n",
        "\n",
        "○ Takes a device name, time, and an action (ON/OFF).\n",
        "\n",
        "○ Returns a message indicating the automation rule.\n",
        "\n",
        "✍️ Example Input & Output:\n",
        "\n",
        "set_automation_rule(\"Lights\", \"10:00 PM\", \"OFF\")\n",
        "\n",
        "# Output: \"Automation Rule: Lights will be turned OFF at 10:00 PM.\""
      ],
      "metadata": {
        "id": "-aQuDNFmuXro"
      }
    },
    {
      "cell_type": "code",
      "source": [
        "def  set_automation_rule(device, time, action):\n",
        "  print(f\"Automation Rule: {device} will be {action} at {time}.\")"
      ],
      "metadata": {
        "id": "-2ReLW0ptrnC"
      },
      "execution_count": null,
      "outputs": []
    },
    {
      "cell_type": "code",
      "source": [
        "set_automation_rule(\"AC\",\"10:00\",\"OFF\")"
      ],
      "metadata": {
        "colab": {
          "base_uri": "https://localhost:8080/"
        },
        "id": "2hVNoZs0vAWa",
        "outputId": "68d367c4-7baa-4bf5-cd25-f74e52a280cf"
      },
      "execution_count": null,
      "outputs": [
        {
          "output_type": "stream",
          "name": "stdout",
          "text": [
            "Automation Rule: AC will be OFF at 10:00.\n"
          ]
        }
      ]
    },
    {
      "cell_type": "markdown",
      "source": [
        "# **Task 4.2: Function to Optimize Power Consumption**\n",
        "\n",
        "● Write a function that:\n",
        "\n",
        "○ Takes a list of devices with their power usage.\n",
        "\n",
        "○ Turns off devices consuming high power (> 1000W).\n",
        "\n",
        "○ Returns an updated list of active devices.\n",
        "\n",
        "✍️ Example Input & Output:\n",
        "\n",
        "devices = [(\"Lights\", 60), (\"AC\", 1500), (\"Fan\", 40), (\"Heater\",2000)]\n",
        "\n",
        "optimize_power(devices)\n",
        "\n",
        "# Output: ['Lights', 'Fan']"
      ],
      "metadata": {
        "id": "iAeNqzYfvVOu"
      }
    },
    {
      "cell_type": "code",
      "source": [
        "devices = [(\"Lights\", 60), (\"AC\", 1500), (\"Fan\", 40), (\"Heater\",2000)]"
      ],
      "metadata": {
        "id": "BvO6WtMIA9il"
      },
      "execution_count": null,
      "outputs": []
    },
    {
      "cell_type": "code",
      "source": [
        "def optimize_power_consumption(devices):\n",
        "  active_device=[]\n",
        "  for device , power in devices:\n",
        "    if power<1000:\n",
        "      active_device.append(device)\n",
        "  return active_device\n",
        "\n"
      ],
      "metadata": {
        "id": "51I823OjvJjD"
      },
      "execution_count": null,
      "outputs": []
    },
    {
      "cell_type": "code",
      "source": [
        "optimize_power_consumption(devices)"
      ],
      "metadata": {
        "id": "V7qXeC272ffx",
        "colab": {
          "base_uri": "https://localhost:8080/"
        },
        "outputId": "aacf2685-e9c6-413b-a374-71e5f27037f3"
      },
      "execution_count": null,
      "outputs": [
        {
          "output_type": "execute_result",
          "data": {
            "text/plain": [
              "['Lights', 'Fan']"
            ]
          },
          "metadata": {},
          "execution_count": 44
        }
      ]
    },
    {
      "cell_type": "markdown",
      "source": [
        "# **Bonus Challenge (Optional)**"
      ],
      "metadata": {
        "id": "vF5V9j-WBaEg"
      }
    },
    {
      "cell_type": "markdown",
      "source": [
        "�� Smart Home AI Assistant (Using *args & **kwargs)\n",
        "\n",
        "● Create a function smart_home_assistant(name, *args, **kwargs) where:\n",
        "\n",
        "○ name: Homeowner's Name.\n",
        "\n",
        "○ *args: Devices that need status updates.\n",
        "\n",
        "○ **kwargs: Automation commands (e.g., lights=\"ON\", fan=\"OFF\").\n",
        "\n",
        "● The function should:\n",
        "\n",
        "○ Print the devices being checked.\n",
        "\n",
        "○ Execute automation commands and return updated status.\n",
        "\n",
        "✍️ Example Input & Output:\n",
        "\n",
        "smart_home_assistant(\"Alice\", \"Lights\", \"AC\", lights=\"OFF\", ac=\"ON\")\n",
        "\n",
        "# Output:\n",
        "\n",
        "# Checking status for: Lights, AC\n",
        "\n",
        "# Lights set to OFF\n",
        "\n",
        "# AC set to ON\n"
      ],
      "metadata": {
        "id": "ffit2hooBgFP"
      }
    },
    {
      "cell_type": "code",
      "source": [
        "def smart_home_assistant(name, *args, **kwargs):\n",
        "    print(f\"Hello {name},\")\n",
        "\n",
        "#This joins all items in args into one string, with \", \" between them.\n",
        "    if args:\n",
        "        devices_list = \", \".join(args)\n",
        "        print(f\"Checking status for: {devices_list}\")\n",
        "\n",
        "#This line loops through each key-value pair in the kwargs dictionary,\n",
        "# where device is the key and status is the value.\n",
        "    for device, status in kwargs.items():\n",
        "        print(f\"{device.capitalize()} set to {status.upper()}\")\n"
      ],
      "metadata": {
        "id": "INP776UwAuRi"
      },
      "execution_count": 1,
      "outputs": []
    },
    {
      "cell_type": "code",
      "source": [
        "smart_home_assistant(\"Alice\", \"Lights\", \"AC\", lights=\"OFF\", ac=\"ON\")"
      ],
      "metadata": {
        "colab": {
          "base_uri": "https://localhost:8080/"
        },
        "id": "mLzWw0IXCzuN",
        "outputId": "68e94d8e-275a-43c9-a87d-58db11ef41b4"
      },
      "execution_count": null,
      "outputs": [
        {
          "output_type": "stream",
          "name": "stdout",
          "text": [
            "Hello Alice,\n",
            "Checking status for: Lights, AC\n",
            "Lights set to OFF\n",
            "Ac set to ON\n"
          ]
        }
      ]
    },
    {
      "cell_type": "markdown",
      "source": [
        "saylani class"
      ],
      "metadata": {
        "id": "EcNvhH808Joy"
      }
    },
    {
      "cell_type": "code",
      "source": [
        "sq_list=[i**2 for i in range(10)]"
      ],
      "metadata": {
        "id": "ZXDNZJN58Izz"
      },
      "execution_count": 2,
      "outputs": []
    },
    {
      "cell_type": "code",
      "source": [
        "sq_list"
      ],
      "metadata": {
        "colab": {
          "base_uri": "https://localhost:8080/"
        },
        "id": "2hfGOp5Y9LZ8",
        "outputId": "330b6832-a328-4378-b444-a409a8a9ac6b"
      },
      "execution_count": 3,
      "outputs": [
        {
          "output_type": "execute_result",
          "data": {
            "text/plain": [
              "[0, 1, 4, 9, 16, 25, 36, 49, 64, 81]"
            ]
          },
          "metadata": {},
          "execution_count": 3
        }
      ]
    },
    {
      "cell_type": "code",
      "source": [
        "num=4"
      ],
      "metadata": {
        "id": "yTVtgzbt9Mn6"
      },
      "execution_count": 4,
      "outputs": []
    },
    {
      "cell_type": "code",
      "source": [
        "isEven=True if num%2==0 else false"
      ],
      "metadata": {
        "id": "uOl-tlD49qvq"
      },
      "execution_count": 5,
      "outputs": []
    },
    {
      "cell_type": "code",
      "source": [
        "isEven"
      ],
      "metadata": {
        "colab": {
          "base_uri": "https://localhost:8080/"
        },
        "id": "93F61sjc9wAa",
        "outputId": "5762c93a-6401-4da8-ca20-26d22eac2b04"
      },
      "execution_count": 6,
      "outputs": [
        {
          "output_type": "execute_result",
          "data": {
            "text/plain": [
              "True"
            ]
          },
          "metadata": {},
          "execution_count": 6
        }
      ]
    },
    {
      "cell_type": "code",
      "source": [
        "dict={i:i**2  for i in range(10)}"
      ],
      "metadata": {
        "id": "wOJ5ylOP9yIK"
      },
      "execution_count": 7,
      "outputs": []
    },
    {
      "cell_type": "code",
      "source": [
        "dict"
      ],
      "metadata": {
        "colab": {
          "base_uri": "https://localhost:8080/"
        },
        "id": "oXi_YndT-Vha",
        "outputId": "1a346b2a-bd0d-4305-adf7-af145b43c346"
      },
      "execution_count": 8,
      "outputs": [
        {
          "output_type": "execute_result",
          "data": {
            "text/plain": [
              "{0: 0, 1: 1, 2: 4, 3: 9, 4: 16, 5: 25, 6: 36, 7: 49, 8: 64, 9: 81}"
            ]
          },
          "metadata": {},
          "execution_count": 8
        }
      ]
    },
    {
      "cell_type": "markdown",
      "source": [
        "**Function**"
      ],
      "metadata": {
        "id": "ZHH4tVtXAF6a"
      }
    },
    {
      "cell_type": "code",
      "source": [
        "def Square():\n",
        "  dict={i:i**2  for i in range(10)}\n",
        "  return dict"
      ],
      "metadata": {
        "id": "qxTS7x44-WI5"
      },
      "execution_count": 9,
      "outputs": []
    },
    {
      "cell_type": "code",
      "source": [
        "Square()"
      ],
      "metadata": {
        "colab": {
          "base_uri": "https://localhost:8080/"
        },
        "id": "vZ829tcLCR56",
        "outputId": "6a68f296-e31b-4873-a42c-39b9b8d3fe17"
      },
      "execution_count": 10,
      "outputs": [
        {
          "output_type": "execute_result",
          "data": {
            "text/plain": [
              "{0: 0, 1: 1, 2: 4, 3: 9, 4: 16, 5: 25, 6: 36, 7: 49, 8: 64, 9: 81}"
            ]
          },
          "metadata": {},
          "execution_count": 10
        }
      ]
    },
    {
      "cell_type": "markdown",
      "source": [
        "no input but give return output"
      ],
      "metadata": {
        "id": "V1ZEjgBZEj5R"
      }
    },
    {
      "cell_type": "code",
      "source": [
        "def square():\n",
        "  sq_list=[]\n",
        "  for i in range(10):\n",
        "    sq_list.append(i**2)\n",
        "  return sq_list"
      ],
      "metadata": {
        "id": "zuWZhYJbCaX5"
      },
      "execution_count": 14,
      "outputs": []
    },
    {
      "cell_type": "code",
      "source": [
        "square()"
      ],
      "metadata": {
        "colab": {
          "base_uri": "https://localhost:8080/"
        },
        "id": "7t35HpqwDk-K",
        "outputId": "304fb336-81aa-45da-89da-0c4c4e552942"
      },
      "execution_count": 15,
      "outputs": [
        {
          "output_type": "execute_result",
          "data": {
            "text/plain": [
              "[0, 1, 4, 9, 16, 25, 36, 49, 64, 81]"
            ]
          },
          "metadata": {},
          "execution_count": 15
        }
      ]
    },
    {
      "cell_type": "code",
      "source": [
        "s=square()"
      ],
      "metadata": {
        "id": "_iYCLcEPDmMI"
      },
      "execution_count": 16,
      "outputs": []
    },
    {
      "cell_type": "code",
      "source": [
        "s"
      ],
      "metadata": {
        "colab": {
          "base_uri": "https://localhost:8080/"
        },
        "id": "UvE_wrMGDwEY",
        "outputId": "1944f002-9235-4b86-a841-8a748a1b5b98"
      },
      "execution_count": 17,
      "outputs": [
        {
          "output_type": "execute_result",
          "data": {
            "text/plain": [
              "[0, 1, 4, 9, 16, 25, 36, 49, 64, 81]"
            ]
          },
          "metadata": {},
          "execution_count": 17
        }
      ]
    },
    {
      "cell_type": "markdown",
      "source": [
        "no input no return output"
      ],
      "metadata": {
        "id": "ppGgl6PXEqOp"
      }
    },
    {
      "cell_type": "code",
      "source": [
        "def greetings():\n",
        "  print(\"function is calling\")"
      ],
      "metadata": {
        "id": "gGBt7qfEDwk6"
      },
      "execution_count": 18,
      "outputs": []
    },
    {
      "cell_type": "code",
      "source": [
        "greetings()"
      ],
      "metadata": {
        "colab": {
          "base_uri": "https://localhost:8080/"
        },
        "id": "XeRL_1oUEgX4",
        "outputId": "dd852458-59e7-49f5-c75e-cdfc8baa30f8"
      },
      "execution_count": 19,
      "outputs": [
        {
          "output_type": "stream",
          "name": "stdout",
          "text": [
            "function is calling\n"
          ]
        }
      ]
    },
    {
      "cell_type": "markdown",
      "source": [
        "give input but not give return output"
      ],
      "metadata": {
        "id": "IxCeDMNwEu2w"
      }
    },
    {
      "cell_type": "code",
      "source": [
        "def Add(a,b):\n",
        "  sum=a+b\n",
        "  print(\"sum=\",sum)"
      ],
      "metadata": {
        "id": "t8m0xTwPEhiI"
      },
      "execution_count": 20,
      "outputs": []
    },
    {
      "cell_type": "code",
      "source": [
        "Add(2,3)"
      ],
      "metadata": {
        "colab": {
          "base_uri": "https://localhost:8080/"
        },
        "id": "RYg1xua0E5sY",
        "outputId": "85203eae-1e24-4663-8acf-64a9f9aa1e42"
      },
      "execution_count": 22,
      "outputs": [
        {
          "output_type": "stream",
          "name": "stdout",
          "text": [
            "sum= 5\n"
          ]
        }
      ]
    },
    {
      "cell_type": "markdown",
      "source": [
        "give input also give return output"
      ],
      "metadata": {
        "id": "SlNV9mKfE9tR"
      }
    },
    {
      "cell_type": "code",
      "source": [
        "def add(a,b):\n",
        "  sum=a+b\n",
        "  return sum"
      ],
      "metadata": {
        "id": "d77WsfdJE6yY"
      },
      "execution_count": 23,
      "outputs": []
    },
    {
      "cell_type": "code",
      "source": [
        "add(2,3)"
      ],
      "metadata": {
        "colab": {
          "base_uri": "https://localhost:8080/"
        },
        "id": "-XxvLkP9FM34",
        "outputId": "8f713648-3647-4bf4-c2d5-2ad30947137c"
      },
      "execution_count": 24,
      "outputs": [
        {
          "output_type": "execute_result",
          "data": {
            "text/plain": [
              "5"
            ]
          },
          "metadata": {},
          "execution_count": 24
        }
      ]
    },
    {
      "cell_type": "code",
      "source": [
        "def greet(name):\n",
        "  print(\"hello\",name)"
      ],
      "metadata": {
        "id": "6AtoHr1FFOfY"
      },
      "execution_count": 25,
      "outputs": []
    },
    {
      "cell_type": "code",
      "source": [
        "greet(2)"
      ],
      "metadata": {
        "colab": {
          "base_uri": "https://localhost:8080/"
        },
        "id": "khnoOK2NH6QX",
        "outputId": "ec24129a-94cc-4a80-cfb0-eaaf52a58b5b"
      },
      "execution_count": 26,
      "outputs": [
        {
          "output_type": "stream",
          "name": "stdout",
          "text": [
            "hello 2\n"
          ]
        }
      ]
    },
    {
      "cell_type": "markdown",
      "source": [
        "keyword input"
      ],
      "metadata": {
        "id": "ZsQZBw_aKCjw"
      }
    },
    {
      "cell_type": "code",
      "source": [
        "def Greet(name=\"muskan\"):\n",
        "  print(\"hello\",name)"
      ],
      "metadata": {
        "id": "MXYWKSO0H7mn"
      },
      "execution_count": 27,
      "outputs": []
    },
    {
      "cell_type": "code",
      "source": [
        "Greet(\"naina\")"
      ],
      "metadata": {
        "colab": {
          "base_uri": "https://localhost:8080/"
        },
        "id": "lxUmCP7tJ9Cn",
        "outputId": "2112c753-12ee-4341-9059-5c90878302a8"
      },
      "execution_count": 30,
      "outputs": [
        {
          "output_type": "stream",
          "name": "stdout",
          "text": [
            "hello naina\n"
          ]
        }
      ]
    },
    {
      "cell_type": "code",
      "source": [
        "\n"
      ],
      "metadata": {
        "id": "wLfrO9_JJ-7X"
      },
      "execution_count": 32,
      "outputs": []
    },
    {
      "cell_type": "code",
      "source": [],
      "metadata": {
        "id": "lj4Oe5q2PaQW"
      },
      "execution_count": null,
      "outputs": []
    }
  ]
}